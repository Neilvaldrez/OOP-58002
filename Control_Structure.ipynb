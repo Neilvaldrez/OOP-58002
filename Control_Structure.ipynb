{
  "nbformat": 4,
  "nbformat_minor": 0,
  "metadata": {
    "colab": {
      "provenance": [],
      "authorship_tag": "ABX9TyMvlBtiMIMLk5DITEfubOh+",
      "include_colab_link": true
    },
    "kernelspec": {
      "name": "python3",
      "display_name": "Python 3"
    },
    "language_info": {
      "name": "python"
    }
  },
  "cells": [
    {
      "cell_type": "markdown",
      "metadata": {
        "id": "view-in-github",
        "colab_type": "text"
      },
      "source": [
        "<a href=\"https://colab.research.google.com/github/Neilvaldrez/OOP-58002/blob/main/Control_Structure.ipynb\" target=\"_parent\"><img src=\"https://colab.research.google.com/assets/colab-badge.svg\" alt=\"Open In Colab\"/></a>"
      ]
    },
    {
      "cell_type": "markdown",
      "source": [
        "If statement"
      ],
      "metadata": {
        "id": "mQQEN6pUmYh8"
      }
    },
    {
      "cell_type": "code",
      "execution_count": 108,
      "metadata": {
        "id": "77B4mdZtirnp",
        "colab": {
          "base_uri": "https://localhost:8080/"
        },
        "outputId": "f12c9485-80d8-460c-e76a-e0e7111a1109"
      },
      "outputs": [
        {
          "output_type": "stream",
          "name": "stdout",
          "text": [
            "a is greater than b\n"
          ]
        }
      ],
      "source": [
        "#IF Statement\n",
        "a = 100\n",
        "b = 50\n",
        "if a>b:\n",
        "  print(\"a is greater than b\")"
      ]
    },
    {
      "cell_type": "markdown",
      "source": [
        "Elif statement"
      ],
      "metadata": {
        "id": "eOhugLHimaS7"
      }
    },
    {
      "cell_type": "code",
      "source": [
        "#Elif Statement\n",
        "if a>b: \n",
        "  print(\"a is greater than b\")\n",
        "elif a<b :\n",
        "  print(\"a is less than b\")"
      ],
      "metadata": {
        "colab": {
          "base_uri": "https://localhost:8080/"
        },
        "id": "0eK1Y7I2kFbV",
        "outputId": "5a66b5a7-a6ec-4eb8-df96-2464e3262d89"
      },
      "execution_count": null,
      "outputs": [
        {
          "output_type": "stream",
          "name": "stdout",
          "text": [
            "a is less than b\n"
          ]
        }
      ]
    },
    {
      "cell_type": "markdown",
      "source": [
        "Else Statement"
      ],
      "metadata": {
        "id": "sjpyVzlykUac"
      }
    },
    {
      "cell_type": "code",
      "source": [
        "#Else Statement\n",
        "if a>b: \n",
        "  print(\"a is greater than b\")\n",
        "elif a<b :\n",
        "  print(\"a is less than b\")\n",
        "else:\n",
        "  print(\"a is equal to b\") \n"
      ],
      "metadata": {
        "colab": {
          "base_uri": "https://localhost:8080/"
        },
        "id": "u23-Jh1LkXf0",
        "outputId": "5ec3338f-1c20-4ae2-f1bf-a2419f0e1e6f"
      },
      "execution_count": null,
      "outputs": [
        {
          "output_type": "stream",
          "name": "stdout",
          "text": [
            "a is equal to b\n"
          ]
        }
      ]
    },
    {
      "cell_type": "markdown",
      "source": [
        "Short Hand If Statement"
      ],
      "metadata": {
        "id": "IN_z7ElgmcnU"
      }
    },
    {
      "cell_type": "code",
      "source": [
        "#Short-hand If Statement\n",
        "if a==b: print(\"a is equal to b\")"
      ],
      "metadata": {
        "colab": {
          "base_uri": "https://localhost:8080/"
        },
        "id": "Zh33oORklM3D",
        "outputId": "91948d71-434e-4880-ea5f-12765c580a03"
      },
      "execution_count": null,
      "outputs": [
        {
          "output_type": "stream",
          "name": "stdout",
          "text": [
            "a is equal to b\n"
          ]
        }
      ]
    },
    {
      "cell_type": "markdown",
      "source": [
        "Short Hand If..Else Statement"
      ],
      "metadata": {
        "id": "0Wjq_yz2mjv7"
      }
    },
    {
      "cell_type": "code",
      "source": [
        "#Short Hand If..Else Statement\n",
        "print(\"a is greater than b\")if a>b else print(\"a is less than b\")"
      ],
      "metadata": {
        "id": "MdC91e_jmlzL"
      },
      "execution_count": null,
      "outputs": []
    },
    {
      "cell_type": "markdown",
      "source": [
        "And Condition"
      ],
      "metadata": {
        "id": "lzlRzFIfm5ec"
      }
    },
    {
      "cell_type": "code",
      "source": [
        "s = 75\n",
        "t = 70\n",
        "if s>t and t<s:\n",
        "  print(\"s > t and t < s\")"
      ],
      "metadata": {
        "colab": {
          "base_uri": "https://localhost:8080/"
        },
        "id": "w6o-dhJRm6bk",
        "outputId": "1e1cf615-5d68-4fbd-9eb8-b8cf79c9eab3"
      },
      "execution_count": null,
      "outputs": [
        {
          "output_type": "stream",
          "name": "stdout",
          "text": [
            "s > t and t < s\n"
          ]
        }
      ]
    },
    {
      "cell_type": "markdown",
      "source": [
        "Or Condition"
      ],
      "metadata": {
        "id": "iqiYD_5VoAiD"
      }
    },
    {
      "cell_type": "code",
      "source": [
        "print(\"s > t and t < s\")"
      ],
      "metadata": {
        "colab": {
          "base_uri": "https://localhost:8080/"
        },
        "id": "SH4Z_DG_oCyi",
        "outputId": "6ccfa0de-0672-438f-e683-fd8c4017c1d8"
      },
      "execution_count": null,
      "outputs": [
        {
          "output_type": "stream",
          "name": "stdout",
          "text": [
            "s > t and t < s\n"
          ]
        }
      ]
    },
    {
      "cell_type": "markdown",
      "source": [
        "Nested If"
      ],
      "metadata": {
        "id": "sY-vSMIsovgs"
      }
    },
    {
      "cell_type": "code",
      "source": [
        "x = float(input())\n",
        "if x > 10:\n",
        "  print(\"above 10\")\n",
        "  if x > 20:\n",
        "    print(\"above 20\")\n",
        "    if x > 30:\n",
        "      print(\"above 30\")\n",
        "      if x > 40: \n",
        "        print(\"above 40\")\n",
        "        if x > 50:\n",
        "          print(\"above 50\")\n",
        "        else: \n",
        "          print(\"below 50\")  \n",
        "      else:\n",
        "        print(\"below 40\") \n",
        "    else:\n",
        "        print(\"below 30\")\n",
        "  else: \n",
        "    print(\"below 20\")\n",
        "else:\n",
        "  print(\"below 10\") "
      ],
      "metadata": {
        "colab": {
          "base_uri": "https://localhost:8080/"
        },
        "id": "LCwiUPKfowzD",
        "outputId": "d957f787-07b9-4120-b618-b8a565e8dd7e"
      },
      "execution_count": null,
      "outputs": [
        {
          "output_type": "stream",
          "name": "stdout",
          "text": [
            "100\n",
            "above 10\n",
            "above 20\n",
            "above 30\n",
            "above 40\n",
            "above 50\n"
          ]
        }
      ]
    },
    {
      "cell_type": "markdown",
      "source": [
        "Example 1\n",
        "\n"
      ],
      "metadata": {
        "id": "mNRMHu9Ztcka"
      }
    },
    {
      "cell_type": "code",
      "source": [
        "Age = float(input())\n",
        "if Age >= 18:\n",
        "  print(\"You are Qualified to Vote\")\n",
        "elif Age < 0:\n",
        "  print(\"No such thing as negative age\")  \n",
        "else:\n",
        "    print(\"You are not Qualified to Vote\")"
      ],
      "metadata": {
        "colab": {
          "base_uri": "https://localhost:8080/"
        },
        "id": "CG8fJbpfrkIb",
        "outputId": "2664aae8-3590-4714-add2-588be7913a5e"
      },
      "execution_count": null,
      "outputs": [
        {
          "output_type": "stream",
          "name": "stdout",
          "text": [
            "100\n",
            "You are Qualified to Vote\n"
          ]
        }
      ]
    },
    {
      "cell_type": "markdown",
      "source": [
        "Example 2"
      ],
      "metadata": {
        "id": "I_WgsHFiuSOD"
      }
    },
    {
      "cell_type": "code",
      "source": [
        "Number = float(input())\n",
        "if Number > 0:\n",
        "  print(\"Number is POSITIVE\")\n",
        "elif Number==0:\n",
        "  print(\"Number is ZERO\")\n",
        "else: \n",
        "  print(\"Number is NEGATIVE\")  "
      ],
      "metadata": {
        "colab": {
          "base_uri": "https://localhost:8080/"
        },
        "id": "YlWqTN-TuR8j",
        "outputId": "9600bda8-c8e6-4558-f237-3483e202e34f"
      },
      "execution_count": null,
      "outputs": [
        {
          "output_type": "stream",
          "name": "stdout",
          "text": [
            "-0\n",
            "Number is ZERO\n"
          ]
        }
      ]
    },
    {
      "cell_type": "markdown",
      "source": [
        "Example 3"
      ],
      "metadata": {
        "id": "UaNrr-RuxmEi"
      }
    },
    {
      "cell_type": "code",
      "source": [
        "Grade = float(input())\n",
        "if Grade >= 70: \n",
        "  print(\"Passed\")\n",
        "elif Grade <= 0:\n",
        "  print(\"Null\")\n",
        "elif Grade < 65:\n",
        "  print(\"Failed\")\n",
        "else:\n",
        "  print(\"Remedial\")    \n"
      ],
      "metadata": {
        "colab": {
          "base_uri": "https://localhost:8080/"
        },
        "id": "CcDB8NC9vr2S",
        "outputId": "a7a03806-fa49-4c78-d1ce-aaa242268750"
      },
      "execution_count": null,
      "outputs": [
        {
          "output_type": "stream",
          "name": "stdout",
          "text": [
            "-12\n",
            "Null\n"
          ]
        }
      ]
    }
  ]
}