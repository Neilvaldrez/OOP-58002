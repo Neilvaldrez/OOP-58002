{
  "nbformat": 4,
  "nbformat_minor": 0,
  "metadata": {
    "colab": {
      "provenance": [],
      "authorship_tag": "ABX9TyND6UZm6yOoC8lTaTs0fOoo",
      "include_colab_link": true
    },
    "kernelspec": {
      "name": "python3",
      "display_name": "Python 3"
    },
    "language_info": {
      "name": "python"
    }
  },
  "cells": [
    {
      "cell_type": "markdown",
      "metadata": {
        "id": "view-in-github",
        "colab_type": "text"
      },
      "source": [
        "<a href=\"https://colab.research.google.com/github/Neilvaldrez/OOP-58002/blob/main/Hands_on_Number_1.ipynb\" target=\"_parent\"><img src=\"https://colab.research.google.com/assets/colab-badge.svg\" alt=\"Open In Colab\"/></a>"
      ]
    },
    {
      "cell_type": "markdown",
      "source": [
        "Hands-on No.1\n",
        "1. Create a Python program that displays the name of the three students (Student 1, Student 2, and Student 3) and the term grades.\n",
        "2. Create a class name Person and attributes - std1, std2, std3, pre, mid, fin\n",
        "3. Compute the average of each term grade using Grade() method.\n",
        "4. Information about student's grades must be hidden from others"
      ],
      "metadata": {
        "id": "KGHZqRi7-GEC"
      }
    },
    {
      "cell_type": "code",
      "execution_count": 47,
      "metadata": {
        "id": "I4FE65m09mdL",
        "colab": {
          "base_uri": "https://localhost:8080/"
        },
        "outputId": "a4321a71-2c3c-4d40-ef5e-fffb3979cf18"
      },
      "outputs": [
        {
          "output_type": "stream",
          "name": "stdout",
          "text": [
            "Student 1's average is 83.66666666666667\n",
            "Student 2's average is 86.66666666666667\n",
            "Student 3's average is 93.33333333333333\n"
          ]
        }
      ],
      "source": [
        "class Person:\n",
        "  def __init__(self, pre, mid, fin):\n",
        "    self.__pre = pre  \n",
        "    self.__mid = mid\n",
        "    self.__fin = fin\n",
        "  def Grade(self):\n",
        "    return (self.__pre+self.__mid+self.__fin)/3\n",
        "class Student1(Person):\n",
        "  pass\n",
        "class Student2(Person):\n",
        "  pass\n",
        "class Student3(Person):\n",
        "  pass  \n",
        "\n",
        "std1 = Student1(71, 81, 99)    \n",
        "std2 = Student2(89, 79, 92)  \n",
        "std3 = Student3(97, 89, 94)  \n",
        "\n",
        "print(\"Student 1's average is\", std1.Grade())\n",
        "print(\"Student 2's average is\", std2.Grade())\n",
        "print(\"Student 3's average is\", std3.Grade())\n"
      ]
    }
  ]
}