{
  "nbformat": 4,
  "nbformat_minor": 0,
  "metadata": {
    "colab": {
      "provenance": [],
      "authorship_tag": "ABX9TyMNIdzMKxP0/mcOTtYnQKqs",
      "include_colab_link": true
    },
    "kernelspec": {
      "name": "python3",
      "display_name": "Python 3"
    },
    "language_info": {
      "name": "python"
    }
  },
  "cells": [
    {
      "cell_type": "markdown",
      "metadata": {
        "id": "view-in-github",
        "colab_type": "text"
      },
      "source": [
        "<a href=\"https://colab.research.google.com/github/Neilvaldrez/OOP-58002/blob/main/OOP_Concepts_2.ipynb\" target=\"_parent\"><img src=\"https://colab.research.google.com/assets/colab-badge.svg\" alt=\"Open In Colab\"/></a>"
      ]
    },
    {
      "cell_type": "code",
      "execution_count": 2,
      "metadata": {
        "colab": {
          "base_uri": "https://localhost:8080/"
        },
        "id": "73jDusCK6Col",
        "outputId": "39e60eea-469a-4cd2-d85b-056d245b13fe"
      },
      "outputs": [
        {
          "output_type": "execute_result",
          "data": {
            "text/plain": [
              "7"
            ]
          },
          "metadata": {},
          "execution_count": 2
        }
      ],
      "source": [
        "class foo: \n",
        "  def __init__(self, a, b):\n",
        "    self.a = a \n",
        "    self.b = b\n",
        "  def add(self):\n",
        "    return self.a + self.b  \n",
        "foo_object = foo(3,4)\n",
        "foo_object.add()    "
      ]
    },
    {
      "cell_type": "code",
      "source": [
        "#Class with multiple objects\n",
        "\n",
        "class Birds:\n",
        "  def __init__(self, name_birds):\n",
        "    self.name_birds = name_birds\n",
        "  def flying_birds(self):\n",
        "    print(f\"The {self.name_birds} is the flying bird above the sky\")\n",
        "  def non_flying_birds(self):\n",
        "    print(f\"The {self.name_birds} is the non flying bird\")   \n",
        "\n",
        "eagle = Birds(\"Eagle\")\n",
        "chicken = Birds(\"Chicken\")  \n",
        "eagle.flying_birds()\n",
        "chicken.non_flying_birds()  \n",
        "\n"
      ],
      "metadata": {
        "colab": {
          "base_uri": "https://localhost:8080/"
        },
        "id": "MA3R44Ga9Jwg",
        "outputId": "79030af8-9ac7-4ff2-ab63-41ba0d3c873c"
      },
      "execution_count": 4,
      "outputs": [
        {
          "output_type": "stream",
          "name": "stdout",
          "text": [
            "The Eagle is the flying bird above the sky\n",
            "The Chicken is the non flying bird\n"
          ]
        }
      ]
    },
    {
      "cell_type": "code",
      "source": [
        "#Encapsulation \n",
        "class foo: \n",
        "  def __init__(self, a, b):\n",
        "    self.__a = a \n",
        "    self.__b = b\n",
        "  def add(self):\n",
        "    return self.__a + self.__b  \n",
        "foo_object = foo(3,4)\n",
        "foo_object.add()\n",
        "foo_object.a = 7\n",
        "foo_object.b = 6\n",
        "foo_object.add()    \n"
      ],
      "metadata": {
        "colab": {
          "base_uri": "https://localhost:8080/"
        },
        "id": "ceccSDo_-YiT",
        "outputId": "d6bf7cba-e8a0-40e5-ba20-f5dcc6b2096a"
      },
      "execution_count": 13,
      "outputs": [
        {
          "output_type": "execute_result",
          "data": {
            "text/plain": [
              "7"
            ]
          },
          "metadata": {},
          "execution_count": 13
        }
      ]
    },
    {
      "cell_type": "code",
      "source": [
        "#Inheritance\n",
        "class Person:\n",
        "  def __init__(self, name, birthdate):\n",
        "    self.name = name\n",
        "    self.birthdate = birthdate\n",
        "  def display(self):\n",
        "    print(\"My name is\", self.name)\n",
        "    print(\"My birthdate is\", self.birthdate)\n",
        "class Student(Person):\n",
        "  pass\n",
        "person = Person(\"Neil Aaron\",\"March 03, 2004\")\n",
        "person.display()   \n",
        "\n",
        "student = Student(\"Ana\",\"March 14, 1991\")\n",
        "student.display()"
      ],
      "metadata": {
        "colab": {
          "base_uri": "https://localhost:8080/"
        },
        "id": "PzrtN9jHAmXK",
        "outputId": "08ba500b-6bd6-4bb4-9045-dff661a612e4"
      },
      "execution_count": 19,
      "outputs": [
        {
          "output_type": "stream",
          "name": "stdout",
          "text": [
            "My name is Neil Aaron\n",
            "My birthdate is March 03, 2004\n",
            "My name is Ana\n",
            "My birthdate is March 14, 1991\n"
          ]
        }
      ]
    },
    {
      "cell_type": "code",
      "source": [
        "#Application\n",
        "class Shapes:\n",
        "  def __init__(self, side):\n",
        "    self.__side = side\n",
        "  def display (self):\n",
        "    print(\"The number of sides for this shape is\", self.__side)  \n",
        "class Dodecagon(Shapes):\n",
        "  pass\n",
        "class Square(Shapes):\n",
        "  pass\n",
        "class Triangle(Shapes):\n",
        "  pass\n",
        "class Pentagon(Shapes):\n",
        "  pass\n",
        "class Nonagon(Shapes):\n",
        "  pass  \n",
        "\n",
        "shapes = Shapes(\"n\")\n",
        "shapes.display()\n",
        "\n",
        "dodecagon = Dodecagon(12)\n",
        "dodecagon.display()\n",
        "\n",
        "square = Square(5)\n",
        "square.display()\n",
        "\n",
        "triangle = Triangle(4)\n",
        "triangle.display()\n",
        "\n",
        "pentagon = Pentagon(5)\n",
        "pentagon.display()\n",
        "\n",
        "nonagon = Nonagon(9)\n",
        "nonagon.display()\n",
        "\n"
      ],
      "metadata": {
        "colab": {
          "base_uri": "https://localhost:8080/"
        },
        "id": "i_kXN_LYEA7C",
        "outputId": "383c6c34-a967-43ad-97a5-4f5095d801e1"
      },
      "execution_count": 31,
      "outputs": [
        {
          "output_type": "stream",
          "name": "stdout",
          "text": [
            "The number of sides for this shape is n\n",
            "The number of sides for this shape is 12\n",
            "The number of sides for this shape is 5\n",
            "The number of sides for this shape is 4\n",
            "The number of sides for this shape is 5\n",
            "The number of sides for this shape is 9\n"
          ]
        }
      ]
    }
  ]
}