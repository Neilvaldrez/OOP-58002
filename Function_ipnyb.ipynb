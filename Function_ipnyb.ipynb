{
  "nbformat": 4,
  "nbformat_minor": 0,
  "metadata": {
    "colab": {
      "provenance": [],
      "authorship_tag": "ABX9TyOgcYs6EG29mY+MlsbOiUmY",
      "include_colab_link": true
    },
    "kernelspec": {
      "name": "python3",
      "display_name": "Python 3"
    },
    "language_info": {
      "name": "python"
    }
  },
  "cells": [
    {
      "cell_type": "markdown",
      "metadata": {
        "id": "view-in-github",
        "colab_type": "text"
      },
      "source": [
        "<a href=\"https://colab.research.google.com/github/Neilvaldrez/OOP-58002/blob/main/Function_ipnyb.ipynb\" target=\"_parent\"><img src=\"https://colab.research.google.com/assets/colab-badge.svg\" alt=\"Open In Colab\"/></a>"
      ]
    },
    {
      "cell_type": "code",
      "execution_count": null,
      "metadata": {
        "colab": {
          "base_uri": "https://localhost:8080/"
        },
        "id": "8zLmlA-rzavr",
        "outputId": "82352f82-9464-4ccb-9bad-283c264c1f32"
      },
      "outputs": [
        {
          "output_type": "execute_result",
          "data": {
            "text/plain": [
              "50"
            ]
          },
          "metadata": {},
          "execution_count": 20
        }
      ],
      "source": [
        "class Shape:\n",
        "  def __init__(self, length, width):\n",
        "    self.length = length\n",
        "    self.width = width\n",
        "\n",
        "  def area_rec(self):\n",
        "    return self.length * self.width \n",
        "  #def area_sqr(self, side):\n",
        "   #  self.side = side\n",
        "    #return self.side * self.side:\n",
        "\n",
        "rectangle = Shape(10,5)\n",
        "rectangle.area_rec()\n",
        " \n"
      ]
    },
    {
      "cell_type": "markdown",
      "source": [
        "create a function that will display your full name then name your class as Person"
      ],
      "metadata": {
        "id": "UnQBYbiD3Z1k"
      }
    },
    {
      "cell_type": "code",
      "source": [
        "class Person:\n",
        "  def __init__(self, First, Middle, Last):\n",
        "    self.First = First\n",
        "    self.Middle = Middle\n",
        "    self.Last = Last\n",
        "\n",
        "  def full_name(self):\n",
        "    return self.First + self.Middle + self.Last\n",
        "\n",
        "name = Person('Neil Aaron', ' M. ', 'Valdrez')\n",
        "name.full_name()      \n"
      ],
      "metadata": {
        "id": "60pQWWjK06S8",
        "colab": {
          "base_uri": "https://localhost:8080/",
          "height": 36
        },
        "outputId": "dd90e3fd-67b7-484d-c43f-4f822610ee1f"
      },
      "execution_count": null,
      "outputs": [
        {
          "output_type": "execute_result",
          "data": {
            "text/plain": [
              "'Neil Aaron M. Valdrez'"
            ],
            "application/vnd.google.colaboratory.intrinsic+json": {
              "type": "string"
            }
          },
          "metadata": {},
          "execution_count": 3
        }
      ]
    },
    {
      "cell_type": "code",
      "source": [
        "def name():\n",
        "  return\"Neil Aaron Mendoza Valdrez\"\n",
        "name()  "
      ],
      "metadata": {
        "colab": {
          "base_uri": "https://localhost:8080/",
          "height": 35
        },
        "id": "vWl63gco9T8L",
        "outputId": "f017f4f4-a444-4028-8053-8c26d4af013b"
      },
      "execution_count": null,
      "outputs": [
        {
          "output_type": "execute_result",
          "data": {
            "text/plain": [
              "'Neil Aaron Mendoza Valdrez'"
            ],
            "application/vnd.google.colaboratory.intrinsic+json": {
              "type": "string"
            }
          },
          "metadata": {},
          "execution_count": 34
        }
      ]
    }
  ]
}