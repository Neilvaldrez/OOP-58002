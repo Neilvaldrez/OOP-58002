{
  "nbformat": 4,
  "nbformat_minor": 0,
  "metadata": {
    "colab": {
      "provenance": [],
      "authorship_tag": "ABX9TyPpqbjknQVx6yckTRijIBBY",
      "include_colab_link": true
    },
    "kernelspec": {
      "name": "python3",
      "display_name": "Python 3"
    },
    "language_info": {
      "name": "python"
    }
  },
  "cells": [
    {
      "cell_type": "markdown",
      "metadata": {
        "id": "view-in-github",
        "colab_type": "text"
      },
      "source": [
        "<a href=\"https://colab.research.google.com/github/Neilvaldrez/OOP-58002/blob/main/Lab_Activity_2.ipynb\" target=\"_parent\"><img src=\"https://colab.research.google.com/assets/colab-badge.svg\" alt=\"Open In Colab\"/></a>"
      ]
    },
    {
      "cell_type": "code",
      "source": [
        "class Circle:\n",
        "    def __init__(self, radius):\n",
        "        self.radius = radius\n",
        "        self.pi = 3.14159\n",
        "\n",
        "    def Perimeter(self):\n",
        "        return 2 * self.pi * self.radius\n",
        "\n",
        "    def Area(self):\n",
        "        return self.pi * self.radius ** 2\n",
        "\n",
        "    def Display(self):\n",
        "        print(\"Perimeter:\", self.Perimeter())\n",
        "        print(\"Area:\", self.Area())\n",
        "\n",
        "radius = float(input(\"Enter the radius of the circle: \"))\n",
        "circle = Circle(radius)\n",
        "circle.Display()"
      ],
      "metadata": {
        "colab": {
          "base_uri": "https://localhost:8080/"
        },
        "id": "3nJ7XU1SCr5t",
        "outputId": "b7d1aa40-3499-437b-a5a0-d6dc32f6f9b7"
      },
      "execution_count": 2,
      "outputs": [
        {
          "output_type": "stream",
          "name": "stdout",
          "text": [
            "Enter the radius of the circle: 7\n",
            "Perimeter: 43.98226\n",
            "Area: 153.93791\n"
          ]
        }
      ]
    }
  ]
}