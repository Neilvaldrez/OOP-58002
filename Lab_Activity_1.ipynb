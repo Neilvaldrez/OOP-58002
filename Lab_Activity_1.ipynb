{
  "nbformat": 4,
  "nbformat_minor": 0,
  "metadata": {
    "colab": {
      "provenance": [],
      "authorship_tag": "ABX9TyNK7lYVBMaKngBKwqkyS6rV",
      "include_colab_link": true
    },
    "kernelspec": {
      "name": "python3",
      "display_name": "Python 3"
    },
    "language_info": {
      "name": "python"
    }
  },
  "cells": [
    {
      "cell_type": "markdown",
      "metadata": {
        "id": "view-in-github",
        "colab_type": "text"
      },
      "source": [
        "<a href=\"https://colab.research.google.com/github/Neilvaldrez/OOP-58002/blob/main/Lab_Activity_1.ipynb\" target=\"_parent\"><img src=\"https://colab.research.google.com/assets/colab-badge.svg\" alt=\"Open In Colab\"/></a>"
      ]
    },
    {
      "cell_type": "code",
      "execution_count": 23,
      "metadata": {
        "colab": {
          "base_uri": "https://localhost:8080/"
        },
        "id": "jRbJ45a5vA2l",
        "outputId": "c87be742-1cff-46fc-8787-0339cd4f0c82"
      },
      "outputs": [
        {
          "output_type": "stream",
          "name": "stdout",
          "text": [
            "Sum of first 20 numbers is: 210\n",
            "Average of 20 numbers is: 10.5\n"
          ]
        }
      ],
      "source": [
        "n = 20\n",
        "sum = 0\n",
        "for num in range(1, n + 1, 1):\n",
        "    sum = sum + num\n",
        "print(\"Sum of first\",n, \"numbers is:\", sum)\n",
        "avg = sum / n\n",
        "print(\"Average of\",n, \"numbers is:\", avg)"
      ]
    }
  ]
}